{
 "cells": [
  {
   "cell_type": "markdown",
   "metadata": {},
   "source": [
    "# AWS Elastic Beanstalk Docker Deployment\n",
    "\n",
    "Further documentation of the code can be found on the original post linked [here](https://medium.com/@lloyd.hamilton/deploying-docker-containerised-ml-models-on-aws-elastic-beanstalk-67cbfbb2def4).\n",
    "\n",
    "This notebook contains code that:\n",
    "\n",
    "1. Trains a random forest model\n",
    "2. Builds a Flask API\n",
    "3. Test a local Flask API\n",
    "4. Test a deployed Flask API\n"
   ]
  },
  {
   "cell_type": "markdown",
   "metadata": {},
   "source": [
    "#### Train a random forest model"
   ]
  },
  {
   "cell_type": "code",
   "execution_count": null,
   "metadata": {},
   "outputs": [],
   "source": [
    "from sklearn.ensemble import RandomForestClassifier\n",
    "from sklearn.model_selection import train_test_split\n",
    "from sklearn.model_selection import cross_val_score\n",
    "import joblib\n",
    "from sklearn.datasets import load_iris\n",
    "\n",
    "def display_scores(scores):\n",
    "    print(\"Scores:\", scores)\n",
    "    print(\"Means:\", scores.mean())\n",
    "    print(\"Standard Deviation:\", scores.std())\n",
    "\n",
    "iris = load_iris()\n",
    "X = iris.data\n",
    "y = iris.target\n",
    "\n",
    "X_train, X_test, y_train, y_test = train_test_split(\n",
    "    X, y, test_size=0.2, random_state=42\n",
    ")\n",
    "\n",
    "rf_clf = RandomForestClassifier()\n",
    "rf_clf.fit(X_train, y_train)\n",
    "rf_scores = cross_val_score(rf_clf, X_train, y_train, scoring = 'accuracy', cv = 3)\n",
    "display_scores(rf_scores)\n",
    "joblib.dump(rf_clf, 'models/rf_clf.joblib')"
   ]
  },
  {
   "cell_type": "markdown",
   "metadata": {},
   "source": [
    "#### Build a Flask API application"
   ]
  },
  {
   "cell_type": "code",
   "execution_count": null,
   "metadata": {},
   "outputs": [],
   "source": [
    "%%writefile scripts/flask_api.py\n",
    "\n",
    "import joblib\n",
    "import numpy as np\n",
    "from flask import Flask, request\n",
    "from flask import Response\n",
    "import json\n",
    "\n",
    "app = Flask(__name__)\n",
    "\n",
    "@app.route('/')\n",
    "def home_endpoint():\n",
    "    return 'Hello World!'\n",
    "\n",
    "@app.route('/predict', methods=['POST'])\n",
    "def predict_endpoint():\n",
    "    test_data = request.get_json()\n",
    "    test_data = np.array(test_data)\n",
    "    predictions = model.predict(test_data)\n",
    "    response = json.dumps(predictions.tolist())\n",
    "    return Response(response, status=200, mimetype=\"application/json\")\n",
    "\n",
    "if __name__ == '__main__':\n",
    "    model = joblib.load('rf_clf.joblib')\n",
    "    app.run(host='0.0.0.0', port=8080)"
   ]
  },
  {
   "cell_type": "markdown",
   "metadata": {},
   "source": [
    "#### Test a local Flask API\n",
    "\n",
    "**Note:** Ensure the docker container is running before running the cell below."
   ]
  },
  {
   "cell_type": "code",
   "execution_count": null,
   "metadata": {},
   "outputs": [],
   "source": [
    "from sklearn.metrics import accuracy_score\n",
    "from sklearn.model_selection import train_test_split\n",
    "from sklearn.datasets import load_iris\n",
    "import numpy as np\n",
    "import requests\n",
    "import json\n",
    "\n",
    "iris = load_iris()\n",
    "X = iris.data\n",
    "y = iris.target\n",
    "\n",
    "X_train, X_test, y_train, y_test = train_test_split(\n",
    "    X, y, test_size=0.2, random_state=42\n",
    ")\n",
    "\n",
    "url = 'http://localhost:8080/predict'\n",
    "headers = {\n",
    "    'Content-type': \"application/json\"\n",
    "}\n",
    "\n",
    "data = json.dumps(X_test.tolist())\n",
    "response = requests.post(url, headers=headers, data=data)\n",
    "predictions = np.array(json.loads(response.text))\n",
    "print(f'Predictions: {predictions}')\n",
    "print(f'Accuracy Score: {accuracy_score(predictions, y_test)}')"
   ]
  },
  {
   "cell_type": "markdown",
   "metadata": {},
   "source": [
    "#### Testing deployed Flask API"
   ]
  },
  {
   "cell_type": "code",
   "execution_count": null,
   "metadata": {},
   "outputs": [],
   "source": [
    "from sklearn.metrics import accuracy_score\n",
    "from sklearn.model_selection import train_test_split\n",
    "from sklearn.datasets import load_iris\n",
    "import numpy as np\n",
    "import requests\n",
    "import json\n",
    "\n",
    "iris = load_iris()\n",
    "X = iris.data\n",
    "y = iris.target\n",
    "\n",
    "X_train, X_test, y_train, y_test = train_test_split(\n",
    "    X, y, test_size=0.2, random_state=42\n",
    ")\n",
    "\n",
    "url = 'http://flask-api-dev.eu-west-2.elasticbeanstalk.com/predict'\n",
    "headers = {\n",
    "    'Content-type': \"application/json\"\n",
    "}\n",
    "\n",
    "data = json.dumps(X_test.tolist())\n",
    "response = requests.post(url, headers=headers, data=data)\n",
    "predictions = np.array(json.loads(response.text))\n",
    "print(f'Predictions: {predictions}')\n",
    "print(f'Accuracy Score: {accuracy_score(predictions, y_test)}')"
   ]
  }
 ],
 "metadata": {
  "interpreter": {
   "hash": "a6f329c160d79c67bab7e4c042d9b94fd8e93b879e5c15332facc5aa0bd7b9cc"
  },
  "kernelspec": {
   "display_name": "Python 3.9.7 64-bit ('data-module3-rewrite-MHxOfhnE-py3.9': poetry)",
   "language": "python",
   "name": "python3"
  },
  "language_info": {
   "codemirror_mode": {
    "name": "ipython",
    "version": 3
   },
   "file_extension": ".py",
   "mimetype": "text/x-python",
   "name": "python",
   "nbconvert_exporter": "python",
   "pygments_lexer": "ipython3",
   "version": "3.9.7"
  },
  "orig_nbformat": 4
 },
 "nbformat": 4,
 "nbformat_minor": 2
}
